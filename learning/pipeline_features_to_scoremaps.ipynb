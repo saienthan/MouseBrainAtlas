{
 "cells": [
  {
   "cell_type": "code",
   "execution_count": 1,
   "metadata": {
    "collapsed": false
   },
   "outputs": [
    {
     "name": "stdout",
     "output_type": "stream",
     "text": [
      "Setting environment for AWS compute node\n"
     ]
    },
    {
     "name": "stderr",
     "output_type": "stream",
     "text": [
      "No vtk\n"
     ]
    }
   ],
   "source": [
    "import os\n",
    "import sys\n",
    "import time\n",
    "\n",
    "sys.path.append(os.path.join(os.environ['REPO_DIR'], 'utilities'))\n",
    "from preprocess_utility import *\n",
    "from data_manager import *\n",
    "from metadata import *"
   ]
  },
  {
   "cell_type": "code",
   "execution_count": 2,
   "metadata": {
    "collapsed": true
   },
   "outputs": [],
   "source": [
    "paired_structures = ['5N', '6N', '7N', '7n', 'Amb', 'LC', 'LRt', 'Pn', 'Tz', 'VLL', 'RMC', 'SNC', 'SNR', '3N', '4N',\n",
    "                    'Sp5I', 'Sp5O', 'Sp5C', 'PBG', '10N', 'VCA', 'VCP', 'DC']\n",
    "singular_structures = ['AP', '12N', 'RtTg', 'SC', 'IC']\n",
    "structures = paired_structures + singular_structures\n",
    "\n",
    "def wait_qsub_complete():\n",
    "    op = \"runall.sh\"\n",
    "    while \"runall.sh\" in op:\n",
    "        op=subprocess.check_output('qstat')\n",
    "        time.sleep(5)\n",
    "        \n",
    "def set_asg_cap(asg, desired_cap):\n",
    "    num_hosts = subprocess.check_output('qhost').count('\\n') - 3\n",
    "    if num_hosts < desired_cap:\n",
    "            subprocess.call(\"aws autoscaling set-desired-capacity --auto-scaling-group-name \"+asg+\" --desired-capacity \"+ str(desired_cap), shell=True) \n",
    "            print(\"Scaling cluster:\"+asg+\" Size:\"+ str(desired_cap))\n",
    "            time.sleep(240)\n",
    "            \n",
    "all_stacks = ['MD589']"
   ]
  },
  {
   "cell_type": "code",
   "execution_count": 6,
   "metadata": {
    "collapsed": true
   },
   "outputs": [],
   "source": [
    "exclude_nodes = [33, 31]"
   ]
  },
  {
   "cell_type": "markdown",
   "metadata": {},
   "source": [
    "# Generate score volumes"
   ]
  },
  {
   "cell_type": "code",
   "execution_count": 3,
   "metadata": {
    "collapsed": true
   },
   "outputs": [],
   "source": [
    "train_sample_scheme = 1"
   ]
  },
  {
   "cell_type": "code",
   "execution_count": 13,
   "metadata": {
    "collapsed": false,
    "scrolled": true
   },
   "outputs": [
    {
     "name": "stdout",
     "output_type": "stream",
     "text": [
      "Scaling cluster:cfncluster-mbacluster-ComputeFleet-MSG4A54YHGPC Size:1\n"
     ]
    },
    {
     "name": "stderr",
     "output_type": "stream",
     "text": [
      "running svm classifier ..."
     ]
    },
    {
     "name": "stdout",
     "output_type": "stream",
     "text": [
      "/shared/MouseBrainAtlas/learning/svm_predict.py MD589 347 370 1 \n"
     ]
    },
    {
     "name": "stderr",
     "output_type": "stream",
     "text": [
      "done in 175.976615 seconds\n",
      "interpolating scoremaps ..."
     ]
    },
    {
     "name": "stdout",
     "output_type": "stream",
     "text": [
      "/shared/MouseBrainAtlas/learning/interpolate_scoremaps_v2.py MD589 347 370 1 \n"
     ]
    },
    {
     "name": "stderr",
     "output_type": "stream",
     "text": [
      "done in 713.811129 seconds\n",
      "visualize scoremaps ..."
     ]
    },
    {
     "name": "stdout",
     "output_type": "stream",
     "text": [
      "/shared/MouseBrainAtlas/learning/visualize_scoremaps_v2.py MD589 -b 347 -e 370  -t 1 \n"
     ]
    },
    {
     "name": "stderr",
     "output_type": "stream",
     "text": [
      "done in 165.906997 seconds\n",
      "constructing score volumes ..."
     ]
    },
    {
     "name": "stdout",
     "output_type": "stream",
     "text": [
      "/shared/MouseBrainAtlas/reconstruct/construct_score_volume_v2.py MD589 IC 1\n"
     ]
    },
    {
     "name": "stderr",
     "output_type": "stream",
     "text": [
      "done in 15.099550 seconds\n"
     ]
    },
    {
     "name": "stdout",
     "output_type": "stream",
     "text": [
      "MD589\n"
     ]
    },
    {
     "name": "stderr",
     "output_type": "stream",
     "text": [
      "Gradient Tz: 1.537107 seconds\n",
      "save Tz: 1.449317 seconds\n",
      "Gradient VCA: 1.423544 seconds\n",
      "save VCA: 2.561206 seconds\n",
      "Gradient 7n: 1.407359 seconds\n",
      "save 7n: 1.955908 seconds\n",
      "Gradient DC: 1.431982 seconds\n",
      "save DC: 3.325554 seconds\n",
      "Gradient 5N: 1.539244 seconds\n",
      "save 5N: 2.438446 seconds\n",
      "Gradient 3N: 1.432235 seconds\n",
      "save 3N: 3.097871 seconds\n",
      "Gradient Pn: 1.548391 seconds\n",
      "save Pn: 3.056241 seconds\n",
      "Gradient 10N: 1.525342 seconds\n",
      "save 10N: 1.314991 seconds\n",
      "Gradient LC: 1.529409 seconds\n",
      "save LC: 1.940578 seconds\n",
      "Gradient 7N: 1.553185 seconds\n",
      "save 7N: 3.018483 seconds\n",
      "Gradient Amb: 1.545700 seconds\n",
      "save Amb: 2.706278 seconds\n",
      "Gradient 12N: 1.483591 seconds\n",
      "save 12N: 2.086305 seconds\n",
      "Gradient RMC: 1.570682 seconds\n",
      "save RMC: 3.632709 seconds\n",
      "Gradient Sp5O: 1.542242 seconds\n",
      "save Sp5O: 3.786730 seconds\n",
      "Gradient Sp5I: 1.537335 seconds\n",
      "save Sp5I: 3.581259 seconds\n",
      "Gradient Sp5C: 1.536965 seconds\n",
      "save Sp5C: 3.509956 seconds\n",
      "Gradient VCP: 1.544679 seconds\n",
      "save VCP: 3.072454 seconds\n",
      "Gradient AP: 1.535239 seconds\n",
      "save AP: 2.149174 seconds\n",
      "Gradient PBG: 1.558278 seconds\n",
      "save PBG: 2.733265 seconds\n",
      "Gradient LRt: 1.564215 seconds\n",
      "save LRt: 3.191185 seconds\n",
      "Gradient IC: 1.507170 seconds\n",
      "save IC: 0.464116 seconds\n",
      "Gradient VLL: 1.416076 seconds\n",
      "save VLL: 3.401433 seconds\n",
      "Gradient 4N: 1.412003 seconds\n",
      "save 4N: 1.902537 seconds\n",
      "Gradient SNC: 1.561165 seconds\n",
      "save SNC: 3.137089 seconds\n",
      "Gradient 6N: 1.504442 seconds\n",
      "save 6N: 1.134691 seconds\n",
      "Gradient SNR: 1.544757 seconds\n",
      "save SNR: 2.961527 seconds\n",
      "Gradient SC: 1.540725 seconds\n",
      "save SC: 3.430638 seconds\n",
      "Gradient RtTg: 1.555354 seconds\n",
      "save RtTg: 3.142449 seconds\n",
      "overall: 116.586761 seconds\n"
     ]
    }
   ],
   "source": [
    "set_asg_cap(\"cfncluster-mbacluster-ComputeFleet-MSG4A54YHGPC\", len(all_stacks))\n",
    "for stack in all_stacks:\n",
    "# for stack in ['MD635']:\n",
    "    \n",
    "    first_sec, last_sec = metadata_cache['section_limits'][stack]\n",
    "    \n",
    "#     #################################\n",
    "\n",
    "    t = time.time()\n",
    "    sys.stderr.write('running svm classifier ...')\n",
    "\n",
    "\n",
    "    run_distributed5(command='%(script_path)s %(stack)s %%(first_sec)d %%(last_sec)d %(train_sample_scheme)d' % \\\n",
    "                    {'script_path': os.path.join(os.environ['REPO_DIR'], 'learning') + '/svm_predict.py',\n",
    "                    'stack': stack,\n",
    "                    'train_sample_scheme': train_sample_scheme},\n",
    "                    kwargs_list=dict(sections=range(first_sec, last_sec+1)),\n",
    "                    exclude_nodes=exclude_nodes,\n",
    "                    argument_type='partition')\n",
    "    \n",
    "    wait_qsub_complete()\n",
    "    sys.stderr.write('done in %f seconds\\n' % (time.time() - t)) # 220 seconds\n",
    "\n",
    "# #     #################################\n",
    "\n",
    "    t = time.time()\n",
    "    sys.stderr.write('interpolating scoremaps ...')\n",
    "\n",
    "    run_distributed5(command='%(script_path)s %(stack)s %%(first_sec)d %%(last_sec)d %(train_sample_scheme)d' % \\\n",
    "                    {'script_path': os.path.join(os.environ['REPO_DIR'], 'learning') + '/interpolate_scoremaps_v2.py',\n",
    "                    'stack': stack,\n",
    "                    'train_sample_scheme': train_sample_scheme},\n",
    "                    kwargs_list=dict(sections=range(first_sec, last_sec+1)),\n",
    "                    exclude_nodes=exclude_nodes,\n",
    "                    argument_type='partition')\n",
    "    \n",
    "    wait_qsub_complete()\n",
    "    sys.stderr.write('done in %f seconds\\n' % (time.time() - t)) # 50s/section\n",
    "\n",
    "    #################################\n",
    "\n",
    "    t = time.time()\n",
    "    sys.stderr.write('visualize scoremaps ...')\n",
    "\n",
    "    add_annotation = False\n",
    "    # first_sec, last_sec = DataManager.load_cropbox(stack)[4:]\n",
    "\n",
    "    run_distributed5(command='%(script_path)s %(stack)s -b %%(first_sec)d -e %%(last_sec)d %(add_annotation)s -t %(train_sample_scheme)d' % \\\n",
    "                    {'script_path': os.path.join(os.environ['REPO_DIR'], 'learning') + '/visualize_scoremaps_v2.py',\n",
    "                    'stack': stack,\n",
    "                     'train_sample_scheme': train_sample_scheme,\n",
    "                    'add_annotation': '-a' if add_annotation else ''},\n",
    "                    kwargs_list=dict(sections=range(first_sec, last_sec+1)),\n",
    "                    exclude_nodes=exclude_nodes,\n",
    "                    argument_type='partition')\n",
    "\n",
    "    wait_qsub_complete()\n",
    "    sys.stderr.write('done in %f seconds\\n' % (time.time() - t)) # 800 seconds / stack\n",
    "\n",
    "\n",
    "    #################################\n",
    "    \n",
    "    t = time.time()\n",
    "    sys.stderr.write('constructing score volumes ...')\n",
    "\n",
    "    run_distributed5(command='%(script_path)s %(stack)s %%(label)s %(train_sample_scheme)d' % \\\n",
    "                    {'script_path': os.path.join(os.environ['REPO_DIR'], 'reconstruct') + '/construct_score_volume_v2.py',\n",
    "                    'stack': stack,\n",
    "                    'train_sample_scheme': train_sample_scheme},\n",
    "                    kwargs_list=dict(label=structures),\n",
    "                    exclude_nodes=exclude_nodes,\n",
    "                    argument_type='single')\n",
    "\n",
    "    wait_qsub_complete()\n",
    "    sys.stderr.write('done in %f seconds\\n' % (time.time() - t)) # 600 seconds\n",
    "\n",
    "    #################################\n",
    "\n",
    "    downscale_factor = 32\n",
    "\n",
    "    #################################\n",
    "\n",
    "    print stack\n",
    "\n",
    "    volume_allLabels = {}\n",
    "\n",
    "    for name_u in structures:\n",
    "        try:\n",
    "            volume = DataManager.load_score_volume(stack, label=name_u, downscale=downscale_factor, train_sample_scheme=train_sample_scheme)\n",
    "            volume_allLabels[name_u] = volume            \n",
    "#         del volume\n",
    "        except:\n",
    "            sys.stderr.write('Score volume for %s does not exist.\\n' % name_u)\n",
    "\n",
    "    t1 = time.time()\n",
    "\n",
    "    gradient_dir = create_if_not_exists(os.path.join(VOLUME_ROOTDIR, stack, 'score_volume_gradients'))\n",
    "\n",
    "#     for name_u in structures:\n",
    "    for name_u in volume_allLabels.keys():\n",
    "\n",
    "        t = time.time()\n",
    "\n",
    "        gy_gx_gz = np.gradient(volume_allLabels[name_u].astype(np.float32), 3, 3, 3) \n",
    "        # 3.3 second - re-computing is much faster than loading\n",
    "        # .astype(np.float32) is important; \n",
    "        # Otherwise the score volume is type np.float16, np.gradient requires np.float32 and will have to convert which is very slow\n",
    "        # 20s (float32) vs. 2s (float16)\n",
    "\n",
    "        sys.stderr.write('Gradient %s: %f seconds\\n' % (name_u, time.time() - t))\n",
    "\n",
    "        t = time.time()\n",
    "\n",
    "        bp.pack_ndarray_file(gy_gx_gz[0], os.path.join(gradient_dir, '%(stack)s_down%(ds)d_scoreVolume_%(label)s_trainSampleScheme_1_gy.bp' % {'stack':stack, 'label':name_u, 'ds': downscale_factor}))\n",
    "        bp.pack_ndarray_file(gy_gx_gz[1], os.path.join(gradient_dir, '%(stack)s_down%(ds)d_scoreVolume_%(label)s_trainSampleScheme_1_gx.bp' % {'stack':stack, 'label':name_u, 'ds': downscale_factor}))\n",
    "        bp.pack_ndarray_file(gy_gx_gz[2], os.path.join(gradient_dir, '%(stack)s_down%(ds)d_scoreVolume_%(label)s_trainSampleScheme_1_gz.bp' % {'stack':stack, 'label':name_u, 'ds': downscale_factor}))\n",
    "\n",
    "        del gy_gx_gz\n",
    "\n",
    "        sys.stderr.write('save %s: %f seconds\\n' % (name_u, time.time() - t))\n",
    "\n",
    "\n",
    "    sys.stderr.write('overall: %f seconds\\n' % (time.time() - t1))"
   ]
  },
  {
   "cell_type": "code",
   "execution_count": null,
   "metadata": {
    "collapsed": true
   },
   "outputs": [],
   "source": []
  },
  {
   "cell_type": "markdown",
   "metadata": {},
   "source": [
    "# Global align"
   ]
  },
  {
   "cell_type": "code",
   "execution_count": 17,
   "metadata": {
    "collapsed": false
   },
   "outputs": [
    {
     "name": "stderr",
     "output_type": "stream",
     "text": [
      "align all subjects to atlas ..."
     ]
    },
    {
     "name": "stdout",
     "output_type": "stream",
     "text": [
      "/shared/MouseBrainAtlas/registration/align_subject_brain_to_atlas_v2.py MD589 1 1 atlasV2\n"
     ]
    },
    {
     "name": "stderr",
     "output_type": "stream",
     "text": [
      "done in 503.243499 seconds\n"
     ]
    }
   ],
   "source": [
    "# Align\n",
    "set_asg_cap(\"cfncluster-mbacluster-ComputeFleet-MSG4A54YHGPC\", len(all_stacks))\n",
    "t = time.time()\n",
    "sys.stderr.write('align all subjects to atlas ...')\n",
    "\n",
    "run_distributed5(command='%(script_path)s %%(stack)s %(train_sample_scheme)d 1 atlasV2' % \\\n",
    "                {'script_path': os.path.join(os.environ['REPO_DIR'], 'registration') + '/align_subject_brain_to_atlas_v2.py',\n",
    "                'train_sample_scheme': train_sample_scheme},\n",
    "                 kwargs_list=dict(stack=all_stacks),\n",
    "#                 kwargs_list=dict(stack=['MD635']),\n",
    "                exclude_nodes=exclude_nodes,\n",
    "                argument_type='single')\n",
    "\n",
    "wait_qsub_complete()\n",
    "sys.stderr.write('done in %f seconds\\n' % (time.time() - t))  # 526 seconds"
   ]
  },
  {
   "cell_type": "code",
   "execution_count": 20,
   "metadata": {
    "collapsed": false
   },
   "outputs": [
    {
     "name": "stderr",
     "output_type": "stream",
     "text": [
      "transform atlas ..."
     ]
    },
    {
     "name": "stdout",
     "output_type": "stream",
     "text": [
      "/shared/MouseBrainAtlas/registration/transform_brains.py MD589 1 1 0 atlasV2\n"
     ]
    },
    {
     "name": "stderr",
     "output_type": "stream",
     "text": [
      "done in 171.125217 seconds\n"
     ]
    }
   ],
   "source": [
    "# Transform\n",
    "set_asg_cap(\"cfncluster-mbacluster-ComputeFleet-MSG4A54YHGPC\", len(all_stacks))\n",
    "t = time.time()\n",
    "sys.stderr.write('transform atlas ...')\n",
    "\n",
    "run_distributed5(command='%(script_path)s %%(stack)s %(train_sample_scheme)d 1 0 atlasV2' % \\\n",
    "                {'script_path': os.path.join(os.environ['REPO_DIR'], 'registration') + '/transform_brains.py',\n",
    "                'train_sample_scheme': train_sample_scheme},\n",
    "                 kwargs_list=dict(stack=all_stacks),\n",
    "#                 kwargs_list=dict(stack=['MD635']),\n",
    "                exclude_nodes=exclude_nodes,\n",
    "                argument_type='single')\n",
    "\n",
    "wait_qsub_complete()\n",
    "sys.stderr.write('done in %f seconds\\n' % (time.time() - t)) # 310 seconds"
   ]
  },
  {
   "cell_type": "code",
   "execution_count": 8,
   "metadata": {
    "collapsed": false
   },
   "outputs": [
    {
     "name": "stderr",
     "output_type": "stream",
     "text": [
      "visualize aligned atlas overlay ..."
     ]
    },
    {
     "name": "stdout",
     "output_type": "stream",
     "text": [
      "/shared/MouseBrainAtlas/registration/visualize_aligned_brains_v2.py MD589 1 1 0 atlasV2\n"
     ]
    },
    {
     "name": "stderr",
     "output_type": "stream",
     "text": [
      "done in 200.986250 seconds\n"
     ]
    }
   ],
   "source": [
    "# Visualize\n",
    "set_asg_cap(\"cfncluster-mbacluster-ComputeFleet-MSG4A54YHGPC\", len(all_stacks))\n",
    "t = time.time()\n",
    "sys.stderr.write('visualize aligned atlas overlay ...')\n",
    "\n",
    "run_distributed5(command='%(script_path)s %%(stack)s %(train_sample_scheme)d 1 0 atlasV2' % \\\n",
    "                {'script_path': os.path.join(os.environ['REPO_DIR'], 'registration') + '/visualize_aligned_brains_v2.py',\n",
    "                'train_sample_scheme': train_sample_scheme},\n",
    "                 kwargs_list=dict(stack=all_stacks),\n",
    "#                kwargs_list=dict(stack=['MD635']),\n",
    "                exclude_nodes=exclude_nodes,\n",
    "                argument_type='single')\n",
    "\n",
    "wait_qsub_complete()\n",
    "sys.stderr.write('done in %f seconds\\n' % (time.time() - t)) # 625 seconds"
   ]
  },
  {
   "cell_type": "code",
   "execution_count": null,
   "metadata": {
    "collapsed": true
   },
   "outputs": [],
   "source": []
  },
  {
   "cell_type": "markdown",
   "metadata": {},
   "source": [
    "# Local align"
   ]
  },
  {
   "cell_type": "code",
   "execution_count": 9,
   "metadata": {
    "collapsed": false,
    "scrolled": true
   },
   "outputs": [
    {
     "name": "stderr",
     "output_type": "stream",
     "text": [
      "LOCAL align ..."
     ]
    },
    {
     "name": "stdout",
     "output_type": "stream",
     "text": [
      "/shared/MouseBrainAtlas/registration/fit_atlas_structure_to_subject_v2.py MD589 1 1 2 atlasV2\n"
     ]
    },
    {
     "name": "stderr",
     "output_type": "stream",
     "text": [
      "done in 4506.435871 seconds\n"
     ]
    }
   ],
   "source": [
    "# Local align\n",
    "\n",
    "set_asg_cap(\"cfncluster-mbacluster-ComputeFleet-MSG4A54YHGPC\", len(all_stacks))\n",
    "t = time.time()\n",
    "sys.stderr.write('LOCAL align ...')\n",
    "\n",
    "run_distributed5(command='%(script_path)s %%(stack)s %(train_sample_scheme)d 1 2 atlasV2' % \\\n",
    "                {'script_path': os.path.join(os.environ['REPO_DIR'], 'registration') + '/fit_atlas_structure_to_subject_v2.py',\n",
    "                'train_sample_scheme': train_sample_scheme},\n",
    "                 kwargs_list=dict(stack=all_stacks),\n",
    "#                kwargs_list=dict(stack=['MD635']),\n",
    "                exclude_nodes=exclude_nodes,\n",
    "                argument_type='single')\n",
    "\n",
    "wait_qsub_complete()\n",
    "sys.stderr.write('done in %f seconds\\n' % (time.time() - t)) # 6807 seconds"
   ]
  },
  {
   "cell_type": "code",
   "execution_count": 27,
   "metadata": {
    "collapsed": false
   },
   "outputs": [
    {
     "name": "stderr",
     "output_type": "stream",
     "text": [
      "transform atlas ..."
     ]
    },
    {
     "name": "stdout",
     "output_type": "stream",
     "text": [
      "['gcn-20-33.sdsc.edu', 'gcn-20-31.sdsc.edu'] are excluded\n",
      "Using nodes: ['gcn-20-32.sdsc.edu', 'gcn-20-34.sdsc.edu', 'gcn-20-35.sdsc.edu', 'gcn-20-36.sdsc.edu', 'gcn-20-37.sdsc.edu', 'gcn-20-38.sdsc.edu', 'gcn-20-41.sdsc.edu', 'gcn-20-42.sdsc.edu', 'gcn-20-43.sdsc.edu', 'gcn-20-44.sdsc.edu', 'gcn-20-45.sdsc.edu', 'gcn-20-46.sdsc.edu', 'gcn-20-47.sdsc.edu', 'gcn-20-48.sdsc.edu']\n"
     ]
    },
    {
     "name": "stderr",
     "output_type": "stream",
     "text": [
      "done in 369.619889 seconds\n"
     ]
    }
   ],
   "source": [
    "# Transform\n",
    "\n",
    "set_asg_cap(\"cfncluster-mbacluster-ComputeFleet-MSG4A54YHGPC\", len(all_stacks))\n",
    "t = time.time()\n",
    "sys.stderr.write('transform atlas ...')\n",
    "\n",
    "run_distributed5(command='%(script_path)s %%(stack)s %(train_sample_scheme)d 1 2 0 atlasV2' % \\\n",
    "                {'script_path': os.path.join(os.environ['REPO_DIR'], 'registration') + '/transform_brains_global_to_local.py',\n",
    "                'train_sample_scheme': train_sample_scheme},\n",
    "                 kwargs_list=dict(stack=all_stacks),\n",
    "#                 kwargs_list=dict(stack=['MD635']),\n",
    "                exclude_nodes=exclude_nodes,\n",
    "                argument_type='single')\n",
    "\n",
    "wait_qsub_complete()\n",
    "sys.stderr.write('done in %f seconds\\n' % (time.time() - t)) # 310 seconds"
   ]
  },
  {
   "cell_type": "code",
   "execution_count": 28,
   "metadata": {
    "collapsed": false,
    "scrolled": true
   },
   "outputs": [
    {
     "name": "stderr",
     "output_type": "stream",
     "text": [
      "visualize aligned atlas overlay ..."
     ]
    },
    {
     "name": "stdout",
     "output_type": "stream",
     "text": [
      "['gcn-20-33.sdsc.edu', 'gcn-20-31.sdsc.edu'] are excluded\n",
      "Using nodes: ['gcn-20-32.sdsc.edu', 'gcn-20-34.sdsc.edu', 'gcn-20-35.sdsc.edu', 'gcn-20-36.sdsc.edu', 'gcn-20-37.sdsc.edu', 'gcn-20-38.sdsc.edu', 'gcn-20-41.sdsc.edu', 'gcn-20-42.sdsc.edu', 'gcn-20-43.sdsc.edu', 'gcn-20-44.sdsc.edu', 'gcn-20-45.sdsc.edu', 'gcn-20-46.sdsc.edu', 'gcn-20-47.sdsc.edu', 'gcn-20-48.sdsc.edu']\n"
     ]
    },
    {
     "name": "stderr",
     "output_type": "stream",
     "text": [
      "done in 647.941902 seconds\n"
     ]
    }
   ],
   "source": [
    "# Visualize\n",
    "\n",
    "set_asg_cap(\"cfncluster-mbacluster-ComputeFleet-MSG4A54YHGPC\", len(all_stacks))\n",
    "t = time.time()\n",
    "sys.stderr.write('visualize aligned atlas overlay ...')\n",
    "\n",
    "run_distributed5(command='%(script_path)s %%(stack)s %(train_sample_scheme)d 1 2 0 atlasV2' % \\\n",
    "                {'script_path': os.path.join(os.environ['REPO_DIR'], 'registration') + '/visualize_aligned_brains_v2_local.py',\n",
    "                'train_sample_scheme': train_sample_scheme},\n",
    "                kwargs_list=dict(stack=['MD635']),\n",
    "                exclude_nodes=exclude_nodes,\n",
    "                argument_type='single')\n",
    "wait_qsub_complete()\n",
    "sys.stderr.write('done in %f seconds\\n' % (time.time() - t)) # 190 seconds"
   ]
  },
  {
   "cell_type": "code",
   "execution_count": null,
   "metadata": {
    "collapsed": true
   },
   "outputs": [],
   "source": []
  },
  {
   "cell_type": "code",
   "execution_count": 13,
   "metadata": {
    "collapsed": false
   },
   "outputs": [
    {
     "name": "stderr",
     "output_type": "stream",
     "text": [
      "transform atlas ..."
     ]
    },
    {
     "name": "stdout",
     "output_type": "stream",
     "text": [
      "['gcn-20-33.sdsc.edu'] are excluded\n",
      "Using nodes: ['gcn-20-31.sdsc.edu', 'gcn-20-32.sdsc.edu', 'gcn-20-34.sdsc.edu', 'gcn-20-35.sdsc.edu', 'gcn-20-36.sdsc.edu', 'gcn-20-37.sdsc.edu', 'gcn-20-38.sdsc.edu', 'gcn-20-41.sdsc.edu', 'gcn-20-42.sdsc.edu', 'gcn-20-43.sdsc.edu', 'gcn-20-44.sdsc.edu', 'gcn-20-45.sdsc.edu', 'gcn-20-46.sdsc.edu', 'gcn-20-47.sdsc.edu', 'gcn-20-48.sdsc.edu']\n"
     ]
    },
    {
     "name": "stderr",
     "output_type": "stream",
     "text": [
      "done in 220.844733 seconds\n"
     ]
    }
   ],
   "source": [
    "# Transform locally transformed volumes back to atlas space\n",
    "\n",
    "t = time.time()\n",
    "sys.stderr.write('transform atlas ...')\n",
    "\n",
    "exclude_nodes = [33]\n",
    "\n",
    "run_distributed5(command='%(script_path)s %%(stack)s 1 1 2 0 atlasV2' % \\\n",
    "                {'script_path': os.path.join(os.environ['REPO_DIR'], 'registration') + '/transform_brains_reverse_global.py'},\n",
    "                kwargs_list=dict(stack=all_stacks),\n",
    "                exclude_nodes=exclude_nodes,\n",
    "                argument_type='single')\n",
    "\n",
    "sys.stderr.write('done in %f seconds\\n' % (time.time() - t)) # 310 seconds"
   ]
  },
  {
   "cell_type": "markdown",
   "metadata": {},
   "source": [
    "# Snake"
   ]
  },
  {
   "cell_type": "code",
   "execution_count": 6,
   "metadata": {
    "collapsed": false
   },
   "outputs": [
    {
     "data": {
      "text/plain": [
       "8"
      ]
     },
     "execution_count": 6,
     "metadata": {},
     "output_type": "execute_result"
    }
   ],
   "source": [
    "train_sample_scheme"
   ]
  },
  {
   "cell_type": "code",
   "execution_count": 7,
   "metadata": {
    "collapsed": false
   },
   "outputs": [
    {
     "name": "stderr",
     "output_type": "stream",
     "text": [
      "Graphcut ..."
     ]
    },
    {
     "name": "stdout",
     "output_type": "stream",
     "text": [
      "['gcn-20-33.sdsc.edu'] are excluded\n",
      "gcn-20-31.sdsc.edu is down\n",
      "Using nodes: ['gcn-20-32.sdsc.edu', 'gcn-20-34.sdsc.edu', 'gcn-20-35.sdsc.edu', 'gcn-20-36.sdsc.edu', 'gcn-20-37.sdsc.edu', 'gcn-20-38.sdsc.edu', 'gcn-20-41.sdsc.edu', 'gcn-20-42.sdsc.edu', 'gcn-20-43.sdsc.edu', 'gcn-20-44.sdsc.edu', 'gcn-20-45.sdsc.edu', 'gcn-20-46.sdsc.edu', 'gcn-20-47.sdsc.edu', 'gcn-20-48.sdsc.edu']\n"
     ]
    },
    {
     "name": "stderr",
     "output_type": "stream",
     "text": [
      "done in 163.411004 seconds\n"
     ]
    }
   ],
   "source": [
    "# Graphcut\n",
    "\n",
    "t = time.time()\n",
    "sys.stderr.write('Graphcut ...')\n",
    "\n",
    "exclude_nodes = [33]\n",
    "\n",
    "# for stack in all_stacks:\n",
    "for stack in ['MD635']:\n",
    "\n",
    "    run_distributed4(command='%(script_path)s %(stack)s %%(name_sided)s %(train_sample_scheme)d' % \\\n",
    "                    {'script_path': os.path.join(os.environ['REPO_DIR'], 'registration') + '/fit_contour_to_scoremap.py',\n",
    "                    'stack': stack,\n",
    "                    'train_sample_scheme': train_sample_scheme},\n",
    "                    kwargs_list=dict(name_sided=[convert_to_left_name(s) for s in paired_structures] + \\\n",
    "                                     [convert_to_right_name(s) for s in paired_structures] + \\\n",
    "                                     [s for s in singular_structures]),\n",
    "                    exclude_nodes=exclude_nodes,\n",
    "                    argument_type='single')\n",
    "\n",
    "sys.stderr.write('done in %f seconds\\n' % (time.time() - t))"
   ]
  }
 ],
 "metadata": {
  "kernelspec": {
   "display_name": "Python 2",
   "language": "python",
   "name": "python2"
  },
  "language_info": {
   "codemirror_mode": {
    "name": "ipython",
    "version": 2
   },
   "file_extension": ".py",
   "mimetype": "text/x-python",
   "name": "python",
   "nbconvert_exporter": "python",
   "pygments_lexer": "ipython2",
   "version": "2.7.6"
  }
 },
 "nbformat": 4,
 "nbformat_minor": 1
}
